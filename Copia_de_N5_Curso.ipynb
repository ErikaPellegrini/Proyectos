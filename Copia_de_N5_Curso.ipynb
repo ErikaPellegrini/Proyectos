{
  "nbformat": 4,
  "nbformat_minor": 0,
  "metadata": {
    "kernelspec": {
      "display_name": "Python 3",
      "language": "python",
      "name": "python3"
    },
    "language_info": {
      "codemirror_mode": {
        "name": "ipython",
        "version": 3
      },
      "file_extension": ".py",
      "mimetype": "text/x-python",
      "name": "python",
      "nbconvert_exporter": "python",
      "pygments_lexer": "ipython3",
      "version": "3.7.3"
    },
    "colab": {
      "provenance": []
    }
  },
  "cells": [
    {
      "cell_type": "markdown",
      "metadata": {
        "id": "Gp2WddtV9IwG"
      },
      "source": [
        "# Programa Ingenias+ Data Science"
      ]
    },
    {
      "cell_type": "markdown",
      "metadata": {
        "id": "X03mviQS9IyL"
      },
      "source": [
        "# Ejercicios\n",
        "\n",
        "1. Crear un arreglo de ceros de longitud 12\n",
        "2. Crear un arreglo de longitud 10 con ceros en todas sus posiciones y un 10 en la posición número 5\n",
        "3. Crear un arreglo que tenga los números del 10 al 49\n",
        "4. Crear una arreglo 2d de shape (3, 3) que tenga los números del 0 al 8\n",
        "5. Crear un arreglo de números aleatorios de longitud 100 y obtener su media y varianza\n",
        "6. Calcular la media de un arreglo usando np.sum\n",
        "7. Calcular la varianza de un arreglo usando np.sum y np.mean\n",
        "8. Crear un array de números aleatorios usando np.random.randn.\n"
      ]
    },
    {
      "cell_type": "code",
      "source": [
        "#Importar numpy\n",
        "import numpy as np"
      ],
      "metadata": {
        "id": "_Ml6ucHAe0dr"
      },
      "execution_count": 2,
      "outputs": []
    },
    {
      "cell_type": "code",
      "source": [
        "#creo un array de ceros\n",
        "array_ceros=np.zeros(12)\n",
        "print(array_ceros)\n",
        "len (array_ceros)"
      ],
      "metadata": {
        "colab": {
          "base_uri": "https://localhost:8080/"
        },
        "id": "bDHUnDG-e0TB",
        "outputId": "c744709b-d346-489d-946d-82e49c39cc96"
      },
      "execution_count": 3,
      "outputs": [
        {
          "output_type": "stream",
          "name": "stdout",
          "text": [
            "[0. 0. 0. 0. 0. 0. 0. 0. 0. 0. 0. 0.]\n"
          ]
        },
        {
          "output_type": "execute_result",
          "data": {
            "text/plain": [
              "12"
            ]
          },
          "metadata": {},
          "execution_count": 3
        }
      ]
    },
    {
      "cell_type": "code",
      "source": [
        "array_diez=np.zeros(10)\n",
        "array_diez[5]=10\n",
        "print(array_diez)"
      ],
      "metadata": {
        "colab": {
          "base_uri": "https://localhost:8080/"
        },
        "id": "Cly9U6BDez8E",
        "outputId": "8ff44c07-07bb-44c8-c8b4-89e6c73c4dbb"
      },
      "execution_count": 4,
      "outputs": [
        {
          "output_type": "stream",
          "name": "stdout",
          "text": [
            "[ 0.  0.  0.  0.  0. 10.  0.  0.  0.  0.]\n"
          ]
        }
      ]
    },
    {
      "cell_type": "code",
      "source": [
        "array_10_49=np.arange(10,50)\n",
        "print(array_10_49)"
      ],
      "metadata": {
        "id": "aOtqSk_ggxeh",
        "colab": {
          "base_uri": "https://localhost:8080/"
        },
        "outputId": "649434cc-8a7a-46de-c168-4d0516f885b1"
      },
      "execution_count": 5,
      "outputs": [
        {
          "output_type": "stream",
          "name": "stdout",
          "text": [
            "[10 11 12 13 14 15 16 17 18 19 20 21 22 23 24 25 26 27 28 29 30 31 32 33\n",
            " 34 35 36 37 38 39 40 41 42 43 44 45 46 47 48 49]\n"
          ]
        }
      ]
    },
    {
      "cell_type": "code",
      "source": [
        "array_8_10=np.arange(9).reshape(3,3)\n",
        "print(array_8_10)"
      ],
      "metadata": {
        "colab": {
          "base_uri": "https://localhost:8080/"
        },
        "id": "SQ_VJJwqhgIl",
        "outputId": "06c5fba0-81bd-4e4a-ed2f-806136b56304"
      },
      "execution_count": 11,
      "outputs": [
        {
          "output_type": "stream",
          "name": "stdout",
          "text": [
            "[[0 1 2]\n",
            " [3 4 5]\n",
            " [6 7 8]]\n"
          ]
        }
      ]
    },
    {
      "cell_type": "code",
      "source": [
        "array_100=np.random.randn(100)\n",
        "print(array_100)"
      ],
      "metadata": {
        "colab": {
          "base_uri": "https://localhost:8080/"
        },
        "id": "AGDFnW8Ahzmw",
        "outputId": "c66d5172-d0c6-4b26-f86c-6f4c3840bf34"
      },
      "execution_count": 12,
      "outputs": [
        {
          "output_type": "stream",
          "name": "stdout",
          "text": [
            "[ 2.60318412 -0.36360226  0.70996889 -0.30650157  0.20096866 -0.61918002\n",
            " -0.82418409  1.24988204 -1.37740035  0.41855419  2.29673314  0.37574964\n",
            " -1.3707105  -1.30484001  1.12614637  0.73013453 -1.98469588 -0.61353386\n",
            " -0.07633306  0.60790859  2.27582887 -3.52138686  0.18721976  0.34102879\n",
            " -0.56086063  1.52511142 -0.51791318  0.18214047  0.41719109  0.48794405\n",
            " -1.49716002  0.06957293  0.40928171  0.3977111  -0.60712236  0.51792456\n",
            " -0.60285165  0.79046887  1.68840232 -1.10582195 -0.48348126  0.41559794\n",
            "  0.37981972 -0.92078097  0.71887449 -0.36515386 -0.08129274  0.05496621\n",
            " -1.00725746 -0.71545386 -1.30348178  1.53500914  0.97297894  0.92568206\n",
            " -0.34506905 -0.15570538  0.85106563 -1.72490348 -0.80409619  0.3648759\n",
            " -1.70857726  0.643514   -0.60189478  1.12356049 -1.83676881  0.22114627\n",
            " -1.17763328  1.39673765 -0.35759436 -1.0804137  -0.53989292  0.82108536\n",
            " -0.77216995 -1.57430037 -0.03476223 -1.74157254 -0.8523105  -0.27938693\n",
            " -0.32644059 -1.7876119  -1.35416976 -0.01490358 -1.22500824 -0.62311977\n",
            " -0.34813169  0.17823786 -0.33362074  0.97670899 -0.97566656  0.59658905\n",
            " -0.52093005  0.7190156  -0.20712641  0.04113081  2.14962281 -0.63548875\n",
            "  0.35620166 -0.84369286 -2.90219946 -0.15135472]\n"
          ]
        }
      ]
    },
    {
      "cell_type": "code",
      "source": [
        "array_media=np.mean(array_100)\n",
        "print(array_media)\n",
        "\n",
        "array_varianza=np.var(array_100)\n",
        "print(array_varianza)"
      ],
      "metadata": {
        "colab": {
          "base_uri": "https://localhost:8080/"
        },
        "id": "272EFmXhi364",
        "outputId": "b3e65f7d-982b-4476-fff6-8cd0e837e55a"
      },
      "execution_count": 13,
      "outputs": [
        {
          "output_type": "stream",
          "name": "stdout",
          "text": [
            "-0.14916040264445574\n",
            "1.1451702220503859\n"
          ]
        }
      ]
    },
    {
      "cell_type": "code",
      "source": [
        "array_100_sum=np.sum(array_100)/[len(array_100)]\n",
        "print(array_100_sum)"
      ],
      "metadata": {
        "colab": {
          "base_uri": "https://localhost:8080/"
        },
        "id": "fIZ7wA-ki_WX",
        "outputId": "b7667775-6941-4999-8002-e0578e108ea2"
      },
      "execution_count": 16,
      "outputs": [
        {
          "output_type": "stream",
          "name": "stdout",
          "text": [
            "[-0.1491604]\n"
          ]
        }
      ]
    },
    {
      "cell_type": "code",
      "source": [
        "array_100_varianza=np.sum((array_100-np.mean(array_100))**2)/[len(array_100)]\n",
        "print(array_100_varianza)"
      ],
      "metadata": {
        "colab": {
          "base_uri": "https://localhost:8080/"
        },
        "id": "kSxx2hw0j181",
        "outputId": "c16f5bde-9227-40a8-a9a0-ddfff4126c7c"
      },
      "execution_count": 18,
      "outputs": [
        {
          "output_type": "stream",
          "name": "stdout",
          "text": [
            "[1.14517022]\n"
          ]
        }
      ]
    },
    {
      "cell_type": "code",
      "source": [
        "array_random = np.random.randn (100)\n",
        "print(array_random)"
      ],
      "metadata": {
        "colab": {
          "base_uri": "https://localhost:8080/"
        },
        "id": "QfoBRCuynrvf",
        "outputId": "8429106c-65e7-4923-a3ef-f969560840e6"
      },
      "execution_count": 17,
      "outputs": [
        {
          "output_type": "stream",
          "name": "stdout",
          "text": [
            "[ 7.83592348e-01 -1.66185107e-02 -8.22906706e-01 -5.19369195e-01\n",
            " -3.47930661e-01  1.25986186e+00 -1.45865322e+00  2.45372163e-03\n",
            " -1.40270306e+00 -2.73816115e-01  1.62544056e+00  1.85648679e+00\n",
            " -1.10875128e+00 -1.26763235e+00  4.28881389e-01  7.02789955e-02\n",
            "  7.20495608e-01  1.47531230e+00  1.53934662e+00 -6.87547354e-01\n",
            " -1.70558192e+00 -2.18442745e+00  5.30247762e-01  1.14389733e+00\n",
            "  3.03455728e-01 -1.98749980e-02 -1.76266962e-02  2.70146210e-01\n",
            " -1.73748892e-01  5.87706790e-01 -1.07942444e+00  9.90198524e-01\n",
            " -1.30508303e+00 -6.80179899e-01  9.05750160e-01 -4.03266136e-01\n",
            " -6.25007387e-01 -2.34291066e+00 -1.27771254e+00 -1.86686118e-01\n",
            "  1.80515110e-01 -7.08821650e-01  3.87677492e-01 -6.92721852e-01\n",
            "  2.14101208e-01 -8.62541507e-01 -8.52289911e-01  1.60525065e-01\n",
            "  1.44856172e+00  5.74084340e-01 -5.46149376e-01  2.52012593e-01\n",
            "  9.68398178e-01 -1.97987759e-01  3.81610594e-01 -1.11579009e-01\n",
            " -1.69128629e+00  3.20218169e-01  9.10715557e-01  1.01905065e+00\n",
            " -8.63699831e-01 -1.16744546e+00  2.65979905e-01 -5.48167945e-01\n",
            " -6.43526303e-01 -3.75462077e-01  2.65765724e-02 -3.29630188e-01\n",
            " -1.33664284e-01  6.58812289e-02 -4.27150026e-01  1.00267926e+00\n",
            "  9.12199901e-01 -1.21846803e+00  8.06364538e-02 -6.96428876e-01\n",
            " -1.07408686e+00  1.00944178e+00  1.51306659e+00 -1.56210562e+00\n",
            "  7.56046208e-01 -5.60923636e-01  2.07435891e-02 -9.35358603e-01\n",
            "  1.27243808e+00  1.94499237e-01  4.19624404e-01  4.60705688e-02\n",
            " -6.81001118e-01  5.22744704e-01  8.38532253e-01 -5.39254735e-01\n",
            "  1.60370305e+00  8.38079710e-01 -1.01713590e+00  4.58745483e-01\n",
            " -2.85318770e+00 -1.23436061e+00  1.26627594e+00 -4.13914743e-01]\n"
          ]
        }
      ]
    }
  ]
}